{
 "cells": [
  {
   "cell_type": "code",
   "execution_count": 1,
   "id": "1336ef37",
   "metadata": {},
   "outputs": [],
   "source": [
    "import matplotlib.pyplot as plt\n",
    "import yfinance as yf\n",
    "import pandas as pd\n",
    "import numpy as np"
   ]
  },
  {
   "cell_type": "code",
   "execution_count": 2,
   "id": "2f64700f",
   "metadata": {},
   "outputs": [
    {
     "name": "stderr",
     "output_type": "stream",
     "text": [
      "C:\\Users\\nito8\\AppData\\Local\\Temp\\ipykernel_724\\2528699373.py:6: FutureWarning: YF.download() has changed argument auto_adjust default to True\n",
      "  df = yf.download(ticker, period=\"max\")['Close'].ffill()\n",
      "[*********************100%***********************]  1 of 1 completed"
     ]
    },
    {
     "name": "stdout",
     "output_type": "stream",
     "text": [
      "Annualized volatility over last 1000 days: 18.10%\n"
     ]
    },
    {
     "name": "stderr",
     "output_type": "stream",
     "text": [
      "\n"
     ]
    }
   ],
   "source": [
    "TICKER = 'SPY'\n",
    "LOOKBACK = 1000\n",
    "TRADING_DAYS = 252\n",
    "\n",
    "def get_data(ticker=TICKER, lookback=LOOKBACK):\n",
    "    df = yf.download(ticker, period=\"max\")['Close'].ffill()\n",
    "    df = df.squeeze()\n",
    "    return df.iloc[-lookback:]\n",
    "\n",
    "def get_volatility(df):\n",
    "    prices = df\n",
    "    df.head()\n",
    "    log_ret = np.log(prices / prices.shift(1)).dropna()\n",
    "    daily_vol = log_ret.std(ddof=1)\n",
    "    annual_vol = daily_vol * np.sqrt(TRADING_DAYS)\n",
    "    return annual_vol\n",
    "\n",
    "def main():\n",
    "    df = get_data()\n",
    "    vol = get_volatility(df)\n",
    "    print(f\"Annualized volatility over last {LOOKBACK} days: {vol:.2%}\")\n",
    "\n",
    "main()"
   ]
  }
 ],
 "metadata": {
  "kernelspec": {
   "display_name": "myenv",
   "language": "python",
   "name": "python3"
  },
  "language_info": {
   "codemirror_mode": {
    "name": "ipython",
    "version": 3
   },
   "file_extension": ".py",
   "mimetype": "text/x-python",
   "name": "python",
   "nbconvert_exporter": "python",
   "pygments_lexer": "ipython3",
   "version": "3.13.5"
  }
 },
 "nbformat": 4,
 "nbformat_minor": 5
}
